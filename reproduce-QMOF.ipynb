{
 "cells": [
  {
   "metadata": {
    "ExecuteTime": {
     "end_time": "2025-06-05T00:12:29.707702Z",
     "start_time": "2025-06-05T00:12:27.371234Z"
    }
   },
   "cell_type": "code",
   "source": "pip install ase",
   "id": "c3d45b257e9defc3",
   "outputs": [
    {
     "name": "stdout",
     "output_type": "stream",
     "text": [
      "Collecting ase\r\n",
      "  Using cached ase-3.25.0-py3-none-any.whl.metadata (4.2 kB)\r\n",
      "Requirement already satisfied: numpy>=1.19.5 in ./.venv/lib/python3.9/site-packages (from ase) (1.26.4)\r\n",
      "Requirement already satisfied: scipy>=1.6.0 in ./.venv/lib/python3.9/site-packages (from ase) (1.13.1)\r\n",
      "Requirement already satisfied: matplotlib>=3.3.4 in ./.venv/lib/python3.9/site-packages (from ase) (3.9.4)\r\n",
      "Requirement already satisfied: contourpy>=1.0.1 in ./.venv/lib/python3.9/site-packages (from matplotlib>=3.3.4->ase) (1.3.0)\r\n",
      "Requirement already satisfied: cycler>=0.10 in ./.venv/lib/python3.9/site-packages (from matplotlib>=3.3.4->ase) (0.12.1)\r\n",
      "Requirement already satisfied: fonttools>=4.22.0 in ./.venv/lib/python3.9/site-packages (from matplotlib>=3.3.4->ase) (4.56.0)\r\n",
      "Requirement already satisfied: kiwisolver>=1.3.1 in ./.venv/lib/python3.9/site-packages (from matplotlib>=3.3.4->ase) (1.4.7)\r\n",
      "Requirement already satisfied: packaging>=20.0 in ./.venv/lib/python3.9/site-packages (from matplotlib>=3.3.4->ase) (24.2)\r\n",
      "Requirement already satisfied: pillow>=8 in ./.venv/lib/python3.9/site-packages (from matplotlib>=3.3.4->ase) (11.1.0)\r\n",
      "Requirement already satisfied: pyparsing>=2.3.1 in ./.venv/lib/python3.9/site-packages (from matplotlib>=3.3.4->ase) (3.2.1)\r\n",
      "Requirement already satisfied: python-dateutil>=2.7 in ./.venv/lib/python3.9/site-packages (from matplotlib>=3.3.4->ase) (2.9.0.post0)\r\n",
      "Requirement already satisfied: importlib-resources>=3.2.0 in ./.venv/lib/python3.9/site-packages (from matplotlib>=3.3.4->ase) (6.5.2)\r\n",
      "Requirement already satisfied: zipp>=3.1.0 in ./.venv/lib/python3.9/site-packages (from importlib-resources>=3.2.0->matplotlib>=3.3.4->ase) (3.21.0)\r\n",
      "Requirement already satisfied: six>=1.5 in ./.venv/lib/python3.9/site-packages (from python-dateutil>=2.7->matplotlib>=3.3.4->ase) (1.17.0)\r\n",
      "Using cached ase-3.25.0-py3-none-any.whl (3.0 MB)\r\n",
      "Installing collected packages: ase\r\n",
      "Successfully installed ase-3.25.0\r\n",
      "Note: you may need to restart the kernel to use updated packages.\n"
     ]
    }
   ],
   "execution_count": 14
  },
  {
   "metadata": {
    "ExecuteTime": {
     "end_time": "2025-06-05T06:34:39.322105Z",
     "start_time": "2025-06-05T00:52:14.520879Z"
    }
   },
   "cell_type": "code",
   "source": [
    "# 🚀 QMOF fingerprint pipeline (100% matching last year's format)\n",
    "\n",
    "import os\n",
    "import json\n",
    "import gzip\n",
    "import pandas as pd\n",
    "from tqdm import tqdm\n",
    "from pymatgen.core import Structure\n",
    "\n",
    "# 🚀 1️⃣ Load QMOF structure data (official json.gz)\n",
    "json_path = '/Users/viewyan/Downloads/13147324/qmof_database/qmof_structure_data.json.gz'\n",
    "\n",
    "with gzip.open(json_path) as f:\n",
    "    data = json.load(f)\n",
    "\n",
    "print(f'Loaded {len(data)} structures.')\n",
    "\n",
    "# 🚀 2️⃣ Define fingerprint function (you should already have this in your colab!)\n",
    "# Example: stoichiometric 45-dimensional fingerprint\n",
    "from collections import defaultdict\n",
    "\n",
    "def compute_stoich_fp(structure, feature_list):\n",
    "    # count atoms\n",
    "    atom_counts = defaultdict(int)\n",
    "    for site in structure.sites:\n",
    "        atom_counts[site.specie.symbol] += 1\n",
    "\n",
    "    # build fingerprint vector\n",
    "    fp_vector = []\n",
    "    total_atoms = sum(atom_counts.values())\n",
    "\n",
    "    for feat in feature_list:\n",
    "        if feat in atom_counts:\n",
    "            fp_vector.append(atom_counts[feat] / total_atoms)\n",
    "        else:\n",
    "            fp_vector.append(0.0)\n",
    "\n",
    "    return fp_vector\n",
    "\n",
    "# 🚀 3️⃣ Define 45-feature element list (this was used last year)\n",
    "feature_list_45 = [\n",
    "    'H', 'Li', 'Be', 'B', 'C', 'N', 'O', 'F', 'Na', 'Mg',\n",
    "    'Al', 'Si', 'P', 'S', 'Cl', 'K', 'Ca', 'Sc', 'Ti', 'V',\n",
    "    'Cr', 'Mn', 'Fe', 'Co', 'Ni', 'Cu', 'Zn', 'Ga', 'Ge', 'As',\n",
    "    'Se', 'Br', 'Rb', 'Sr', 'Y', 'Zr', 'Nb', 'Mo', 'Pd', 'Ag',\n",
    "    'Cd', 'In', 'Sn', 'Sb', 'I'\n",
    "]\n",
    "\n",
    "# 🚀 4️⃣ Loop over structures and compute fingerprints\n",
    "mof_names = []\n",
    "fingerprints = []\n",
    "\n",
    "for entry in tqdm(data):\n",
    "    try:\n",
    "        mof_name = entry['name']\n",
    "        structure_dict = entry['structure']\n",
    "        structure = Structure.from_dict(structure_dict)\n",
    "\n",
    "        fp = compute_stoich_fp(structure, feature_list_45)\n",
    "\n",
    "        mof_names.append(mof_name)\n",
    "        fingerprints.append(fp)\n",
    "\n",
    "    except Exception as e:\n",
    "        print(f'Failed for {entry[\"name\"]}: {e}')\n",
    "        continue\n",
    "\n",
    "# 🚀 5️⃣ Save to DataFrame\n",
    "df_fps = pd.DataFrame(fingerprints, columns=feature_list_45)\n",
    "df_fps.insert(0, 'MOF_name', mof_names)\n",
    "\n",
    "print(f'Generated DataFrame shape: {df_fps.shape}')\n",
    "\n",
    "# 🚀 6️⃣ Save CSV (same name as last year)\n",
    "output_path = '/Users/viewyan/Downloads/13147324/qmof_database/reproduce-stoich45_fingerprints.csv'\n",
    "df_fps.to_csv(output_path, index=False)\n",
    "\n",
    "print(f'Fingerprint saved to {output_path} ✅')\n"
   ],
   "id": "initial_id",
   "outputs": [
    {
     "name": "stdout",
     "output_type": "stream",
     "text": [
      "Loaded 20425 structures.\n"
     ]
    },
    {
     "name": "stderr",
     "output_type": "stream",
     "text": [
      "100%|██████████| 20425/20425 [4:04:19<00:00,  1.39it/s]    \n"
     ]
    },
    {
     "name": "stdout",
     "output_type": "stream",
     "text": [
      "Generated DataFrame shape: (20425, 46)\n",
      "Fingerprint saved to /Users/viewyan/Downloads/13147324/qmof_database/stoich45_fingerprints.csv ✅\n"
     ]
    }
   ],
   "execution_count": 25
  },
  {
   "metadata": {
    "ExecuteTime": {
     "end_time": "2025-06-05T06:50:24.153490Z",
     "start_time": "2025-06-05T06:46:09.397638Z"
    }
   },
   "cell_type": "code",
   "source": [
    "def compute_stoich_fp(structure, feature_list):\n",
    "    atom_counts = defaultdict(int)\n",
    "    for site in structure.sites:\n",
    "        atom_counts[site.specie.symbol] += 1\n",
    "\n",
    "    fp_vector = []\n",
    "    total_atoms = sum(atom_counts.values())\n",
    "\n",
    "    for feat in feature_list:\n",
    "        if feat in atom_counts:\n",
    "            fp_vector.append(atom_counts[feat] / total_atoms)\n",
    "        else:\n",
    "            fp_vector.append(0.0)\n",
    "\n",
    "    return fp_vector\n",
    "\n",
    "# 🚀 3️⃣ Define 120-feature element list (same as last year's)\n",
    "feature_list_120 = [\n",
    "    'H', 'He',\n",
    "    'Li', 'Be', 'B', 'C', 'N', 'O', 'F', 'Ne',\n",
    "    'Na', 'Mg', 'Al', 'Si', 'P', 'S', 'Cl', 'Ar',\n",
    "    'K', 'Ca', 'Sc', 'Ti', 'V', 'Cr', 'Mn', 'Fe', 'Co', 'Ni', 'Cu', 'Zn', 'Ga', 'Ge', 'As', 'Se', 'Br', 'Kr',\n",
    "    'Rb', 'Sr', 'Y', 'Zr', 'Nb', 'Mo', 'Tc', 'Ru', 'Rh', 'Pd', 'Ag', 'Cd', 'In', 'Sn', 'Sb', 'Te', 'I', 'Xe',\n",
    "    'Cs', 'Ba', 'La', 'Ce', 'Pr', 'Nd', 'Pm', 'Sm', 'Eu', 'Gd', 'Tb', 'Dy', 'Ho', 'Er', 'Tm', 'Yb', 'Lu',\n",
    "    'Hf', 'Ta', 'W', 'Re', 'Os', 'Ir', 'Pt', 'Au', 'Hg', 'Tl', 'Pb', 'Bi', 'Po', 'At', 'Rn',\n",
    "    'Fr', 'Ra', 'Ac', 'Th', 'Pa', 'U', 'Np', 'Pu', 'Am', 'Cm', 'Bk', 'Cf', 'Es', 'Fm', 'Md', 'No', 'Lr',\n",
    "    'Rf', 'Db', 'Sg', 'Bh', 'Hs', 'Mt', 'Ds', 'Rg', 'Cn', 'Nh', 'Fl', 'Mc', 'Lv', 'Ts', 'Og'\n",
    "]\n",
    "\n",
    "# 🚀 4️⃣ Loop over structures and compute fingerprints\n",
    "mof_names = []\n",
    "fingerprints = []\n",
    "\n",
    "for entry in tqdm(data):\n",
    "    try:\n",
    "        mof_name = entry['name']\n",
    "        structure_dict = entry['structure']\n",
    "        structure = Structure.from_dict(structure_dict)\n",
    "\n",
    "        fp = compute_stoich_fp(structure, feature_list_120)\n",
    "\n",
    "        mof_names.append(mof_name)\n",
    "        fingerprints.append(fp)\n",
    "\n",
    "    except Exception as e:\n",
    "        print(f'Failed for {entry[\"name\"]}: {e}')\n",
    "        continue\n",
    "\n",
    "# 🚀 5️⃣ Save to DataFrame\n",
    "df_fps = pd.DataFrame(fingerprints, columns=feature_list_120)\n",
    "df_fps.insert(0, 'MOF_name', mof_names)\n",
    "\n",
    "print(f'Generated DataFrame shape: {df_fps.shape}')\n",
    "\n",
    "# 🚀 6️⃣ Save CSV (same name as last year)\n",
    "output_path = '/Users/viewyan/Downloads/13147324/qmof_database/reproduce-stoich120_fingerprints.csv'\n",
    "df_fps.to_csv(output_path, index=False)\n",
    "\n",
    "print(f'Fingerprint saved to {output_path} ✅')"
   ],
   "id": "97ab59bcd22cc270",
   "outputs": [
    {
     "name": "stderr",
     "output_type": "stream",
     "text": [
      "100%|██████████| 20425/20425 [04:12<00:00, 80.83it/s] \n"
     ]
    },
    {
     "name": "stdout",
     "output_type": "stream",
     "text": [
      "Generated DataFrame shape: (20425, 119)\n",
      "Fingerprint saved to /Users/viewyan/Downloads/13147324/qmof_database/reproduce-stoich120_fingerprints.csv ✅\n"
     ]
    }
   ],
   "execution_count": 26
  }
 ],
 "metadata": {
  "kernelspec": {
   "display_name": "Python 3",
   "language": "python",
   "name": "python3"
  },
  "language_info": {
   "codemirror_mode": {
    "name": "ipython",
    "version": 2
   },
   "file_extension": ".py",
   "mimetype": "text/x-python",
   "name": "python",
   "nbconvert_exporter": "python",
   "pygments_lexer": "ipython2",
   "version": "2.7.6"
  }
 },
 "nbformat": 4,
 "nbformat_minor": 5
}
