{
 "cells": [
  {
   "cell_type": "code",
   "id": "initial_id",
   "metadata": {
    "collapsed": true,
    "ExecuteTime": {
     "end_time": "2025-06-05T08:06:42.889549Z",
     "start_time": "2025-06-05T08:06:42.828372Z"
    }
   },
   "source": [
    "import numpy as np\n",
    "\n",
    "def get_fingerprint_45(structure):\n",
    "    elements = [site.specie for site in structure.sites]\n",
    "    unique_elements = list(set(elements))\n",
    "\n",
    "    feature_dict = {\n",
    "        \"atomic_number\": [],\n",
    "        \"atomic_mass\": [],\n",
    "        \"period\": [],\n",
    "        \"group\": [],\n",
    "        \"row\": [],\n",
    "        \"column\": [],\n",
    "        \"covalent_radius\": [],\n",
    "        \"vdw_radius\": [],\n",
    "        \"electronegativity\": [],\n",
    "        \"atomic_volume\": [],\n",
    "        \"melting_point\": [],\n",
    "        \"boiling_point\": [],\n",
    "        \"density\": [],\n",
    "        \"electron_affinity\": [],\n",
    "        \"fusion_enthalpy\": [],\n",
    "        \"vaporization_enthalpy\": [],\n",
    "        \"thermal_conductivity\": [],\n",
    "        \"specific_heat_capacity\": [],\n",
    "        \"electrical_conductivity\": [],\n",
    "        \"heat_of_formation\": [],\n",
    "        \"hardness\": [],\n",
    "        \"youngs_modulus\": [],\n",
    "        \"bulk_modulus\": [],\n",
    "        \"shear_modulus\": [],\n",
    "        \"poisson_ratio\": [],\n",
    "        \"brinell_hardness\": [],\n",
    "        \"mohs_hardness\": [],\n",
    "        \"vickers_hardness\": [],\n",
    "        \"density_of_states_at_fermi_level\": [],\n",
    "        \"band_gap\": [],\n",
    "        \"polarizability\": [],\n",
    "        \"magnetic_moment\": [],\n",
    "        \"refractive_index\": [],\n",
    "        \"oxidation_state\": [],\n",
    "        \"ionic_radius\": [],\n",
    "        \"magnetic_ordering\": [],\n",
    "        \"crystal_structure\": [],\n",
    "        \"space_group_number\": [],\n",
    "        \"space_group_symbol\": [],\n",
    "        \"crystal_system\": [],\n",
    "        \"number_of_atoms\": [],\n",
    "        \"number_of_elements\": [],\n",
    "        \"packing_fraction\": [],\n",
    "    }\n",
    "\n",
    "    # 模拟填 0\n",
    "    # 你之前代码里是根据 element 周期表提特征\n",
    "    for key in feature_dict.keys():\n",
    "        feature_dict[key] = [0.0]\n",
    "\n",
    "    fingerprint = np.array([np.mean(vals) for vals in feature_dict.values()])\n",
    "    return fingerprint\n",
    "\n",
    "def get_fingerprint_120(structure):\n",
    "    # 假设 stoich120 是 stoich45 的增强版（你之前代码也是）\n",
    "    fp45 = get_fingerprint_45(structure)\n",
    "    # 这里我们举例：假装加上一些额外特征（补零即可）\n",
    "    extra_features = np.zeros(120 - len(fp45))\n",
    "    fingerprint = np.concatenate([fp45, extra_features])\n",
    "    return fingerprint\n"
   ],
   "outputs": [
    {
     "ename": "ModuleNotFoundError",
     "evalue": "No module named 'qmof_fingerprint'",
     "output_type": "error",
     "traceback": [
      "\u001B[0;31m---------------------------------------------------------------------------\u001B[0m",
      "\u001B[0;31mModuleNotFoundError\u001B[0m                       Traceback (most recent call last)",
      "Cell \u001B[0;32mIn[4], line 73\u001B[0m\n\u001B[1;32m     71\u001B[0m \u001B[38;5;28;01mfrom\u001B[39;00m\u001B[38;5;250m \u001B[39m\u001B[38;5;21;01mtqdm\u001B[39;00m\u001B[38;5;250m \u001B[39m\u001B[38;5;28;01mimport\u001B[39;00m tqdm\n\u001B[1;32m     72\u001B[0m \u001B[38;5;28;01mfrom\u001B[39;00m\u001B[38;5;250m \u001B[39m\u001B[38;5;21;01mpymatgen\u001B[39;00m\u001B[38;5;21;01m.\u001B[39;00m\u001B[38;5;21;01mcore\u001B[39;00m\u001B[38;5;250m \u001B[39m\u001B[38;5;28;01mimport\u001B[39;00m Structure\n\u001B[0;32m---> 73\u001B[0m \u001B[38;5;28;01mfrom\u001B[39;00m\u001B[38;5;250m \u001B[39m\u001B[38;5;21;01mqmof_fingerprint\u001B[39;00m\u001B[38;5;250m \u001B[39m\u001B[38;5;28;01mimport\u001B[39;00m get_fingerprint_45, get_fingerprint_120\n\u001B[1;32m     75\u001B[0m \u001B[38;5;66;03m# 1️⃣ Load QMOF structures\u001B[39;00m\n\u001B[1;32m     76\u001B[0m \u001B[38;5;28;01mwith\u001B[39;00m \u001B[38;5;28mopen\u001B[39m(\u001B[38;5;124m\"\u001B[39m\u001B[38;5;124mqmof_structure_data.json\u001B[39m\u001B[38;5;124m\"\u001B[39m) \u001B[38;5;28;01mas\u001B[39;00m f:\n",
      "\u001B[0;31mModuleNotFoundError\u001B[0m: No module named 'qmof_fingerprint'"
     ]
    }
   ],
   "execution_count": 4
  }
 ],
 "metadata": {
  "kernelspec": {
   "display_name": "Python 3",
   "language": "python",
   "name": "python3"
  },
  "language_info": {
   "codemirror_mode": {
    "name": "ipython",
    "version": 2
   },
   "file_extension": ".py",
   "mimetype": "text/x-python",
   "name": "python",
   "nbconvert_exporter": "python",
   "pygments_lexer": "ipython2",
   "version": "2.7.6"
  }
 },
 "nbformat": 4,
 "nbformat_minor": 5
}
